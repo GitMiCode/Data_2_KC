{
 "cells": [
  {
   "cell_type": "code",
   "execution_count": 1,
   "id": "80cdfeba",
   "metadata": {},
   "outputs": [],
   "source": [
    "import requests\n",
    "import pandas as pd\n",
    "import json"
   ]
  },
  {
   "cell_type": "markdown",
   "id": "f957c129",
   "metadata": {},
   "source": [
    "# Sample Raw json data from Louisville Metro Open Data API\n",
    "\n",
    "### From:\n",
    "https://services1.arcgis.com/79kfd2K6fskCAkyg/arcgis/rest/services/Louisville_Metro_KY_Expenditures_Data_For_Fiscal_Year_2022/FeatureServer/0/query?outFields=*&where=1%3D1&f=geojson\n",
    "\n",
    "### Show sample data from API in json format \n"
   ]
  },
  {
   "cell_type": "code",
   "execution_count": 2,
   "id": "e3119f99",
   "metadata": {
    "scrolled": false
   },
   "outputs": [
    {
     "name": "stdout",
     "output_type": "stream",
     "text": [
      "<class 'dict'>\n",
      "----------\n",
      "{\n",
      "    \"type\": \"FeatureCollection\",\n",
      "    \"properties\": {\n",
      "        \"exceededTransferLimit\": true\n",
      "    },\n",
      "    \"features\": [\n",
      "        {\n",
      "            \"type\": \"Feature\",\n",
      "            \"id\": 1,\n",
      "            \"geometry\": null,\n",
      "            \"properties\": {\n",
      "                \"Fiscal_Year\": 2022,\n",
      "                \"Budget_Type\": \"Metro Government Capital\",\n",
      "                \"Agency_Name\": \"Public Works & Assets Department\",\n",
      "                \"Sub_Agency_Name\": \"D11 New Sidewalk Stony Brook Dr\",\n",
      "                \"DepartmentName\": null,\n",
      "                \"Sub_DepartmentName\": null,\n",
      "                \"Category\": \"Equipment/Capital Outlay\",\n",
      "                \"Sub_Category\": \"Right of Way Land\",\n",
      "                \"Stimulus_Type\": null,\n",
      "                \"Funding_Source\": \"Federally Funded\",\n",
      "                \"Vendor_Name\": \"PATRICK W LEIBY\",\n",
      "                \"InvoiceID\": 2439134,\n",
      "                \"InvoiceDt\": 1649304000000,\n",
      "                \"InvoiceAmt\": 1865,\n",
      "                \"DistributionAmt\": 1492,\n",
      "                \"CheckID\": 1204645,\n",
      "                \"CheckDt\": 1649908800000,\n",
      "                \"CheckAmt\": 1865,\n",
      "                \"CheckVoidDt\": -2208970800000,\n",
      "                \"ObjectId\": 1\n",
      "            }\n",
      "        },\n",
      "        {\n",
      "            \"type\": \"Feature\",\n",
      "            \"id\": 2,\n",
      "            \"geometry\": null,\n",
      "            \"properties\": {\n",
      "\n"
     ]
    }
   ],
   "source": [
    "response = requests.get('https://services1.arcgis.com/79kfd2K6fskCAkyg/arcgis/rest/services/Louisville_Metro_KY_Expenditures_Data_For_Fiscal_Year_2022/FeatureServer/0/query?outFields=*&where=1%3D1&f=geojson')\n",
    "raw_data = response.json()\n",
    "print(type(raw_data))\n",
    "print('----------')\n",
    "formated_response = json.dumps(raw_data, indent=4)\n",
    "print(formated_response[:1300])"
   ]
  },
  {
   "cell_type": "markdown",
   "id": "024436b6",
   "metadata": {},
   "source": [
    "# Create DataFrame\n",
    "## Clean up \n",
    "\n",
    "- limit DataFrame to first 100 of 1000 JSON object literals\n",
    "- Capture inner dictionary (properties) from features object literals\n",
    "    - NOT utilizing Pandas json_normalize()\n",
    "- Create list of \"properties\" object literals\n",
    "- Create DataFrame from list of \"properties\" object literals\n",
    "- Drop columns not needed\n"
   ]
  },
  {
   "cell_type": "code",
   "execution_count": 3,
   "id": "856598be",
   "metadata": {},
   "outputs": [
    {
     "name": "stdout",
     "output_type": "stream",
     "text": [
      "    Fiscal_Year                       Vendor_Name  InvoiceID  InvoiceAmt  \\\n",
      "0          2022                   PATRICK W LEIBY    2439134      1865.0   \n",
      "1          2022  HALL CONTRACTING OF KENTUCKY INC    2347858     10500.0   \n",
      "2          2022  HALL CONTRACTING OF KENTUCKY INC    2347858     10500.0   \n",
      "3          2022  HALL CONTRACTING OF KENTUCKY INC    2347858     10500.0   \n",
      "4          2022                        S WALK INC    2333017      2500.0   \n",
      "..          ...                               ...        ...         ...   \n",
      "95         2022               HDR ENGINEERING INC    2452292      5684.4   \n",
      "96         2022               HDR ENGINEERING INC    2452292      5684.4   \n",
      "97         2022               HDR ENGINEERING INC    2460107      5684.4   \n",
      "98         2022  HALL CONTRACTING OF KENTUCKY INC    2343646     11333.7   \n",
      "99         2022  HALL CONTRACTING OF KENTUCKY INC    2472493      6645.0   \n",
      "\n",
      "    CheckID    CheckAmt  \n",
      "0   1204645     1865.00  \n",
      "1   1170537    26170.00  \n",
      "2   1170537    26170.00  \n",
      "3   1170537    26170.00  \n",
      "4   1162344     2500.00  \n",
      "..      ...         ...  \n",
      "95  1210113    12576.30  \n",
      "96  1210113    12576.30  \n",
      "97  1211758     5684.40  \n",
      "98  1167899  1437480.61  \n",
      "99  1218915   432267.75  \n",
      "\n",
      "[100 rows x 6 columns]\n"
     ]
    }
   ],
   "source": [
    "response = requests.get('https://services1.arcgis.com/79kfd2K6fskCAkyg/arcgis/rest/services/Louisville_Metro_KY_Expenditures_Data_For_Fiscal_Year_2022/FeatureServer/0/query?outFields=*&where=1%3D1&f=geojson')\n",
    "data1 = response.json()\n",
    "data2 = pd.DataFrame.from_dict(data1['features'][0:100])\n",
    "data3 = pd.DataFrame.from_dict(data2[\"properties\"])\n",
    "data4 = data3.to_dict('list')\n",
    "data5 = pd.DataFrame.from_dict(data4[\"properties\"])\n",
    "data5 = data5.drop(columns=['Budget_Type','Agency_Name','Sub_Agency_Name','DepartmentName','Sub_DepartmentName','Category','Sub_Category','Stimulus_Type','Funding_Source','InvoiceDt','DistributionAmt','CheckDt','CheckVoidDt','ObjectId'])\n",
    "#data5.to_excel(\"data5.xlsx\") \n",
    "print(data5)"
   ]
  },
  {
   "cell_type": "markdown",
   "id": "1237d439",
   "metadata": {},
   "source": [
    "### Show DataFrame type and pandas.DataFrame.head (.head()) function "
   ]
  },
  {
   "cell_type": "code",
   "execution_count": 4,
   "id": "83f6d6ff",
   "metadata": {},
   "outputs": [
    {
     "name": "stdout",
     "output_type": "stream",
     "text": [
      "Type from response: <class 'pandas.core.frame.DataFrame'>\n"
     ]
    },
    {
     "data": {
      "text/html": [
       "<div>\n",
       "<style scoped>\n",
       "    .dataframe tbody tr th:only-of-type {\n",
       "        vertical-align: middle;\n",
       "    }\n",
       "\n",
       "    .dataframe tbody tr th {\n",
       "        vertical-align: top;\n",
       "    }\n",
       "\n",
       "    .dataframe thead th {\n",
       "        text-align: right;\n",
       "    }\n",
       "</style>\n",
       "<table border=\"1\" class=\"dataframe\">\n",
       "  <thead>\n",
       "    <tr style=\"text-align: right;\">\n",
       "      <th></th>\n",
       "      <th>Fiscal_Year</th>\n",
       "      <th>Vendor_Name</th>\n",
       "      <th>InvoiceID</th>\n",
       "      <th>InvoiceAmt</th>\n",
       "      <th>CheckID</th>\n",
       "      <th>CheckAmt</th>\n",
       "    </tr>\n",
       "  </thead>\n",
       "  <tbody>\n",
       "    <tr>\n",
       "      <th>0</th>\n",
       "      <td>2022</td>\n",
       "      <td>PATRICK W LEIBY</td>\n",
       "      <td>2439134</td>\n",
       "      <td>1865.0</td>\n",
       "      <td>1204645</td>\n",
       "      <td>1865.0</td>\n",
       "    </tr>\n",
       "    <tr>\n",
       "      <th>1</th>\n",
       "      <td>2022</td>\n",
       "      <td>HALL CONTRACTING OF KENTUCKY INC</td>\n",
       "      <td>2347858</td>\n",
       "      <td>10500.0</td>\n",
       "      <td>1170537</td>\n",
       "      <td>26170.0</td>\n",
       "    </tr>\n",
       "    <tr>\n",
       "      <th>2</th>\n",
       "      <td>2022</td>\n",
       "      <td>HALL CONTRACTING OF KENTUCKY INC</td>\n",
       "      <td>2347858</td>\n",
       "      <td>10500.0</td>\n",
       "      <td>1170537</td>\n",
       "      <td>26170.0</td>\n",
       "    </tr>\n",
       "    <tr>\n",
       "      <th>3</th>\n",
       "      <td>2022</td>\n",
       "      <td>HALL CONTRACTING OF KENTUCKY INC</td>\n",
       "      <td>2347858</td>\n",
       "      <td>10500.0</td>\n",
       "      <td>1170537</td>\n",
       "      <td>26170.0</td>\n",
       "    </tr>\n",
       "    <tr>\n",
       "      <th>4</th>\n",
       "      <td>2022</td>\n",
       "      <td>S WALK INC</td>\n",
       "      <td>2333017</td>\n",
       "      <td>2500.0</td>\n",
       "      <td>1162344</td>\n",
       "      <td>2500.0</td>\n",
       "    </tr>\n",
       "  </tbody>\n",
       "</table>\n",
       "</div>"
      ],
      "text/plain": [
       "   Fiscal_Year                       Vendor_Name  InvoiceID  InvoiceAmt  \\\n",
       "0         2022                   PATRICK W LEIBY    2439134      1865.0   \n",
       "1         2022  HALL CONTRACTING OF KENTUCKY INC    2347858     10500.0   \n",
       "2         2022  HALL CONTRACTING OF KENTUCKY INC    2347858     10500.0   \n",
       "3         2022  HALL CONTRACTING OF KENTUCKY INC    2347858     10500.0   \n",
       "4         2022                        S WALK INC    2333017      2500.0   \n",
       "\n",
       "   CheckID  CheckAmt  \n",
       "0  1204645    1865.0  \n",
       "1  1170537   26170.0  \n",
       "2  1170537   26170.0  \n",
       "3  1170537   26170.0  \n",
       "4  1162344    2500.0  "
      ]
     },
     "execution_count": 4,
     "metadata": {},
     "output_type": "execute_result"
    }
   ],
   "source": [
    "print(f'Type from response: {type(data5)}')\n",
    "data5.head()"
   ]
  },
  {
   "cell_type": "markdown",
   "id": "2080760b",
   "metadata": {},
   "source": [
    "### Show descriptive statistics with pandas.DataFrame.describe (.describe)"
   ]
  },
  {
   "cell_type": "code",
   "execution_count": 5,
   "id": "48fdb694",
   "metadata": {},
   "outputs": [
    {
     "data": {
      "text/html": [
       "<div>\n",
       "<style scoped>\n",
       "    .dataframe tbody tr th:only-of-type {\n",
       "        vertical-align: middle;\n",
       "    }\n",
       "\n",
       "    .dataframe tbody tr th {\n",
       "        vertical-align: top;\n",
       "    }\n",
       "\n",
       "    .dataframe thead th {\n",
       "        text-align: right;\n",
       "    }\n",
       "</style>\n",
       "<table border=\"1\" class=\"dataframe\">\n",
       "  <thead>\n",
       "    <tr style=\"text-align: right;\">\n",
       "      <th></th>\n",
       "      <th>Fiscal_Year</th>\n",
       "      <th>InvoiceID</th>\n",
       "      <th>InvoiceAmt</th>\n",
       "      <th>CheckID</th>\n",
       "      <th>CheckAmt</th>\n",
       "    </tr>\n",
       "  </thead>\n",
       "  <tbody>\n",
       "    <tr>\n",
       "      <th>count</th>\n",
       "      <td>100.0</td>\n",
       "      <td>1.000000e+02</td>\n",
       "      <td>100.000000</td>\n",
       "      <td>1.000000e+02</td>\n",
       "      <td>1.000000e+02</td>\n",
       "    </tr>\n",
       "    <tr>\n",
       "      <th>mean</th>\n",
       "      <td>2022.0</td>\n",
       "      <td>2.405954e+06</td>\n",
       "      <td>13595.520400</td>\n",
       "      <td>1.191914e+06</td>\n",
       "      <td>2.078698e+05</td>\n",
       "    </tr>\n",
       "    <tr>\n",
       "      <th>std</th>\n",
       "      <td>0.0</td>\n",
       "      <td>4.731274e+04</td>\n",
       "      <td>32866.440737</td>\n",
       "      <td>1.885787e+04</td>\n",
       "      <td>4.515136e+05</td>\n",
       "    </tr>\n",
       "    <tr>\n",
       "      <th>min</th>\n",
       "      <td>2022.0</td>\n",
       "      <td>2.324045e+06</td>\n",
       "      <td>130.000000</td>\n",
       "      <td>1.159148e+06</td>\n",
       "      <td>1.300000e+02</td>\n",
       "    </tr>\n",
       "    <tr>\n",
       "      <th>25%</th>\n",
       "      <td>2022.0</td>\n",
       "      <td>2.366662e+06</td>\n",
       "      <td>2482.500000</td>\n",
       "      <td>1.177060e+06</td>\n",
       "      <td>9.895080e+03</td>\n",
       "    </tr>\n",
       "    <tr>\n",
       "      <th>50%</th>\n",
       "      <td>2022.0</td>\n",
       "      <td>2.404414e+06</td>\n",
       "      <td>5684.400000</td>\n",
       "      <td>1.191356e+06</td>\n",
       "      <td>5.538786e+04</td>\n",
       "    </tr>\n",
       "    <tr>\n",
       "      <th>75%</th>\n",
       "      <td>2022.0</td>\n",
       "      <td>2.449355e+06</td>\n",
       "      <td>10270.080000</td>\n",
       "      <td>1.209637e+06</td>\n",
       "      <td>1.019718e+05</td>\n",
       "    </tr>\n",
       "    <tr>\n",
       "      <th>max</th>\n",
       "      <td>2022.0</td>\n",
       "      <td>2.483291e+06</td>\n",
       "      <td>305015.160000</td>\n",
       "      <td>1.221816e+06</td>\n",
       "      <td>1.712309e+06</td>\n",
       "    </tr>\n",
       "  </tbody>\n",
       "</table>\n",
       "</div>"
      ],
      "text/plain": [
       "       Fiscal_Year     InvoiceID     InvoiceAmt       CheckID      CheckAmt\n",
       "count        100.0  1.000000e+02     100.000000  1.000000e+02  1.000000e+02\n",
       "mean        2022.0  2.405954e+06   13595.520400  1.191914e+06  2.078698e+05\n",
       "std            0.0  4.731274e+04   32866.440737  1.885787e+04  4.515136e+05\n",
       "min         2022.0  2.324045e+06     130.000000  1.159148e+06  1.300000e+02\n",
       "25%         2022.0  2.366662e+06    2482.500000  1.177060e+06  9.895080e+03\n",
       "50%         2022.0  2.404414e+06    5684.400000  1.191356e+06  5.538786e+04\n",
       "75%         2022.0  2.449355e+06   10270.080000  1.209637e+06  1.019718e+05\n",
       "max         2022.0  2.483291e+06  305015.160000  1.221816e+06  1.712309e+06"
      ]
     },
     "execution_count": 5,
     "metadata": {},
     "output_type": "execute_result"
    }
   ],
   "source": [
    "data5.describe()"
   ]
  },
  {
   "cell_type": "markdown",
   "id": "0da5e0b3",
   "metadata": {},
   "source": [
    "### Show tuple representing the dimensionality of the DataFrame.  pandas.DataFrame.shape(.shape)"
   ]
  },
  {
   "cell_type": "code",
   "execution_count": 6,
   "id": "aaa03db4",
   "metadata": {},
   "outputs": [
    {
     "data": {
      "text/plain": [
       "(100, 6)"
      ]
     },
     "execution_count": 6,
     "metadata": {},
     "output_type": "execute_result"
    }
   ],
   "source": [
    "data5.shape"
   ]
  },
  {
   "cell_type": "markdown",
   "id": "0eca6a9f",
   "metadata": {},
   "source": [
    "### Using DataFrame.mean() to get \"CheckAmt\" column mean"
   ]
  },
  {
   "cell_type": "code",
   "execution_count": 7,
   "id": "58f82a47",
   "metadata": {},
   "outputs": [
    {
     "name": "stdout",
     "output_type": "stream",
     "text": [
      "207869.7743\n"
     ]
    }
   ],
   "source": [
    "chk_amount_avg = data5['CheckAmt'].mean()\n",
    "print(chk_amount_avg)"
   ]
  },
  {
   "cell_type": "markdown",
   "id": "d98ba4bb",
   "metadata": {},
   "source": [
    "### Using DataFrame.sum() to get CheckAmt column sum"
   ]
  },
  {
   "cell_type": "code",
   "execution_count": 8,
   "id": "969ebf8f",
   "metadata": {},
   "outputs": [
    {
     "name": "stdout",
     "output_type": "stream",
     "text": [
      "20786977.43\n"
     ]
    }
   ],
   "source": [
    "chk_amount_sum = data5['CheckAmt'].sum()\n",
    "print(chk_amount_sum)"
   ]
  },
  {
   "cell_type": "markdown",
   "id": "89b02bd0",
   "metadata": {},
   "source": [
    "### Find the maximum value of a column (CheckAmt) and to return its corresponding row values"
   ]
  },
  {
   "cell_type": "code",
   "execution_count": 9,
   "id": "5b872b7a",
   "metadata": {},
   "outputs": [
    {
     "name": "stdout",
     "output_type": "stream",
     "text": [
      "Fiscal_Year                                2022\n",
      "Vendor_Name    HALL CONTRACTING OF KENTUCKY INC\n",
      "InvoiceID                               2324045\n",
      "InvoiceAmt                             26737.51\n",
      "CheckID                                 1159148\n",
      "CheckAmt                             1712308.66\n",
      "Name: 30, dtype: object\n"
     ]
    }
   ],
   "source": [
    "col = \"CheckAmt\"\n",
    "max_x = data5.loc[data5[col].idxmax()]\n",
    "print(max_x)"
   ]
  },
  {
   "cell_type": "markdown",
   "id": "da1d37cd",
   "metadata": {},
   "source": [
    "### Pull subset of vendor(TEK SYSTEMS) from Vendor_name, using loc also .query"
   ]
  },
  {
   "cell_type": "code",
   "execution_count": 10,
   "id": "965f3adc",
   "metadata": {
    "scrolled": true
   },
   "outputs": [
    {
     "name": "stdout",
     "output_type": "stream",
     "text": [
      "   Fiscal_Year  Vendor_Name  InvoiceID  InvoiceAmt  CheckID   CheckAmt\n",
      "0         2022  TEK SYSTEMS    2402689     7280.00  1190936  115432.00\n",
      "1         2022  TEK SYSTEMS    2403602     7280.00  1190936  115432.00\n",
      "2         2022  TEK SYSTEMS    2403610     7280.00  1190936  115432.00\n",
      "3         2022  TEK SYSTEMS    2403621     7280.00  1190936  115432.00\n",
      "4         2022  TEK SYSTEMS    2382444     3555.23  1182032    3555.23\n"
     ]
    }
   ],
   "source": [
    "data6 = data5.loc[data5['Vendor_Name'] == 'TEK SYSTEMS']\n",
    "data6 = data6.reset_index(drop=True)\n",
    "print(data6)"
   ]
  },
  {
   "cell_type": "code",
   "execution_count": 11,
   "id": "f3bc7372",
   "metadata": {},
   "outputs": [
    {
     "name": "stdout",
     "output_type": "stream",
     "text": [
      "    Fiscal_Year  Vendor_Name  InvoiceID  InvoiceAmt  CheckID   CheckAmt\n",
      "37         2022  TEK SYSTEMS    2402689     7280.00  1190936  115432.00\n",
      "56         2022  TEK SYSTEMS    2403602     7280.00  1190936  115432.00\n",
      "60         2022  TEK SYSTEMS    2403610     7280.00  1190936  115432.00\n",
      "70         2022  TEK SYSTEMS    2403621     7280.00  1190936  115432.00\n",
      "76         2022  TEK SYSTEMS    2382444     3555.23  1182032    3555.23\n"
     ]
    }
   ],
   "source": [
    "data7 = data5.query(\"Vendor_Name == 'TEK SYSTEMS'\")\n",
    "print(data7)"
   ]
  },
  {
   "cell_type": "markdown",
   "id": "8a7b9c84",
   "metadata": {},
   "source": [
    "### Show first 4 rows of DataFrame"
   ]
  },
  {
   "cell_type": "code",
   "execution_count": 12,
   "id": "09bd7086",
   "metadata": {},
   "outputs": [
    {
     "data": {
      "text/html": [
       "<div>\n",
       "<style scoped>\n",
       "    .dataframe tbody tr th:only-of-type {\n",
       "        vertical-align: middle;\n",
       "    }\n",
       "\n",
       "    .dataframe tbody tr th {\n",
       "        vertical-align: top;\n",
       "    }\n",
       "\n",
       "    .dataframe thead th {\n",
       "        text-align: right;\n",
       "    }\n",
       "</style>\n",
       "<table border=\"1\" class=\"dataframe\">\n",
       "  <thead>\n",
       "    <tr style=\"text-align: right;\">\n",
       "      <th></th>\n",
       "      <th>Fiscal_Year</th>\n",
       "      <th>Vendor_Name</th>\n",
       "      <th>InvoiceID</th>\n",
       "      <th>InvoiceAmt</th>\n",
       "      <th>CheckID</th>\n",
       "      <th>CheckAmt</th>\n",
       "    </tr>\n",
       "  </thead>\n",
       "  <tbody>\n",
       "    <tr>\n",
       "      <th>0</th>\n",
       "      <td>2022</td>\n",
       "      <td>PATRICK W LEIBY</td>\n",
       "      <td>2439134</td>\n",
       "      <td>1865.0</td>\n",
       "      <td>1204645</td>\n",
       "      <td>1865.0</td>\n",
       "    </tr>\n",
       "    <tr>\n",
       "      <th>1</th>\n",
       "      <td>2022</td>\n",
       "      <td>HALL CONTRACTING OF KENTUCKY INC</td>\n",
       "      <td>2347858</td>\n",
       "      <td>10500.0</td>\n",
       "      <td>1170537</td>\n",
       "      <td>26170.0</td>\n",
       "    </tr>\n",
       "    <tr>\n",
       "      <th>2</th>\n",
       "      <td>2022</td>\n",
       "      <td>HALL CONTRACTING OF KENTUCKY INC</td>\n",
       "      <td>2347858</td>\n",
       "      <td>10500.0</td>\n",
       "      <td>1170537</td>\n",
       "      <td>26170.0</td>\n",
       "    </tr>\n",
       "    <tr>\n",
       "      <th>3</th>\n",
       "      <td>2022</td>\n",
       "      <td>HALL CONTRACTING OF KENTUCKY INC</td>\n",
       "      <td>2347858</td>\n",
       "      <td>10500.0</td>\n",
       "      <td>1170537</td>\n",
       "      <td>26170.0</td>\n",
       "    </tr>\n",
       "  </tbody>\n",
       "</table>\n",
       "</div>"
      ],
      "text/plain": [
       "   Fiscal_Year                       Vendor_Name  InvoiceID  InvoiceAmt  \\\n",
       "0         2022                   PATRICK W LEIBY    2439134      1865.0   \n",
       "1         2022  HALL CONTRACTING OF KENTUCKY INC    2347858     10500.0   \n",
       "2         2022  HALL CONTRACTING OF KENTUCKY INC    2347858     10500.0   \n",
       "3         2022  HALL CONTRACTING OF KENTUCKY INC    2347858     10500.0   \n",
       "\n",
       "   CheckID  CheckAmt  \n",
       "0  1204645    1865.0  \n",
       "1  1170537   26170.0  \n",
       "2  1170537   26170.0  \n",
       "3  1170537   26170.0  "
      ]
     },
     "execution_count": 12,
     "metadata": {},
     "output_type": "execute_result"
    }
   ],
   "source": [
    "data5.iloc[:4]"
   ]
  },
  {
   "cell_type": "code",
   "execution_count": null,
   "id": "dc745ce9",
   "metadata": {},
   "outputs": [],
   "source": []
  }
 ],
 "metadata": {
  "kernelspec": {
   "display_name": "Python 3 (ipykernel)",
   "language": "python",
   "name": "python3"
  },
  "language_info": {
   "codemirror_mode": {
    "name": "ipython",
    "version": 3
   },
   "file_extension": ".py",
   "mimetype": "text/x-python",
   "name": "python",
   "nbconvert_exporter": "python",
   "pygments_lexer": "ipython3",
   "version": "3.9.7"
  }
 },
 "nbformat": 4,
 "nbformat_minor": 5
}
