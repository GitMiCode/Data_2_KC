{
 "cells": [
  {
   "cell_type": "code",
   "execution_count": 1,
   "id": "80cdfeba",
   "metadata": {},
   "outputs": [],
   "source": [
    "import requests\n",
    "import pandas as pd\n",
    "import json"
   ]
  },
  {
   "cell_type": "markdown",
   "id": "f957c129",
   "metadata": {},
   "source": [
    "# Sample Raw json data from Louisville Metro Open Data API\n",
    "\n",
    "### From:\n",
    "https://services1.arcgis.com/79kfd2K6fskCAkyg/arcgis/rest/services/Louisville_Metro_KY_Expenditures_Data_For_Fiscal_Year_2022/FeatureServer/0/query?outFields=*&where=1%3D1&f=geojson\n",
    "\n",
    "### Show sample data from API in json format \n"
   ]
  },
  {
   "cell_type": "code",
   "execution_count": 2,
   "id": "e3119f99",
   "metadata": {
    "scrolled": false
   },
   "outputs": [
    {
     "name": "stdout",
     "output_type": "stream",
     "text": [
      "<class 'dict'>\n",
      "----------\n",
      "{\n",
      "    \"type\": \"FeatureCollection\",\n",
      "    \"properties\": {\n",
      "        \"exceededTransferLimit\": true\n",
      "    },\n",
      "    \"features\": [\n",
      "        {\n",
      "            \"type\": \"Feature\",\n",
      "            \"id\": 1,\n",
      "            \"geometry\": null,\n",
      "            \"properties\": {\n",
      "                \"Fiscal_Year\": 2022,\n",
      "                \"Budget_Type\": \"Metro Government Capital\",\n",
      "                \"Agency_Name\": \"Public Works & Assets Department\",\n",
      "                \"Sub_Agency_Name\": \"18th & Broadway Realignment\",\n",
      "                \"DepartmentName\": null,\n",
      "                \"Sub_DepartmentName\": null,\n",
      "                \"Category\": \"Contractual Services\",\n",
      "                \"Sub_Category\": \"Road Construction/ Paving Services\",\n",
      "                \"Stimulus_Type\": null,\n",
      "                \"Funding_Source\": \"FY19 Metro GO Bond - 10 yr\",\n",
      "                \"Vendor_Name\": \"LOUISVILLE GAS & ELECTRIC COMPANY\",\n",
      "                \"InvoiceID\": 2458376,\n",
      "                \"InvoiceDt\": 1652673600000,\n",
      "                \"InvoiceAmt\": 664,\n",
      "                \"DistributionAmt\": 664,\n",
      "                \"CheckID\": 1210984,\n",
      "                \"CheckDt\": 1652932800000,\n",
      "                \"CheckAmt\": 664,\n",
      "                \"CheckVoidDt\": -2208970800000,\n",
      "                \"ObjectId\": 1\n",
      "            }\n",
      "        },\n",
      "        {\n",
      "            \"type\": \"Feature\",\n",
      "            \"id\": 2,\n",
      "            \"geometry\": \n"
     ]
    }
   ],
   "source": [
    "response = requests.get('https://services1.arcgis.com/79kfd2K6fskCAkyg/arcgis/rest/services/Louisville_Metro_KY_Expenditures_Data_For_Fiscal_Year_2022/FeatureServer/0/query?outFields=*&where=1%3D1&f=geojson')\n",
    "raw_data = response.json()\n",
    "print(type(raw_data))\n",
    "print('----------')\n",
    "formated_response = json.dumps(raw_data, indent=4)\n",
    "print(formated_response[:1300])"
   ]
  },
  {
   "cell_type": "markdown",
   "id": "024436b6",
   "metadata": {},
   "source": [
    "# Create DataFrame\n",
    "## Clean up \n",
    "\n",
    "- limit DataFrame to first 100 of 1000 JSON object literals\n",
    "- Capture inner dictionary (properties) from features object literals\n",
    "    - NOT utilizing Pandas json_normalize()\n",
    "- Create list of \"properties\" object literals\n",
    "- Create DataFrame from list of \"properties\" object literals\n",
    "- Drop columns not needed\n"
   ]
  },
  {
   "cell_type": "code",
   "execution_count": 3,
   "id": "856598be",
   "metadata": {},
   "outputs": [
    {
     "name": "stdout",
     "output_type": "stream",
     "text": [
      "    Fiscal_Year                        Vendor_Name  InvoiceID  InvoiceAmt  \\\n",
      "0          2022  LOUISVILLE GAS & ELECTRIC COMPANY    2458376      664.00   \n",
      "1          2022          ALL TRAFFIC SOLUTIONS INC    2406773    10193.44   \n",
      "2          2022          ALL TRAFFIC SOLUTIONS INC    2406773    10193.44   \n",
      "3          2022          ALL TRAFFIC SOLUTIONS INC    2406773    10193.44   \n",
      "4          2022               ACTION LANDSCAPE INC    2431857      958.33   \n",
      "..          ...                                ...        ...         ...   \n",
      "95         2022                YANCEY LIVING TRUST    2324144   187300.00   \n",
      "96         2022   HALL CONTRACTING OF KENTUCKY INC    2343641    32355.32   \n",
      "97         2022   HALL CONTRACTING OF KENTUCKY INC    2343643    27358.52   \n",
      "98         2022   HALL CONTRACTING OF KENTUCKY INC    2343643    27358.52   \n",
      "99         2022   HALL CONTRACTING OF KENTUCKY INC    2343641    32355.32   \n",
      "\n",
      "    CheckID    CheckAmt  \n",
      "0   1210984      664.00  \n",
      "1   1191356    10193.44  \n",
      "2   1191356    10193.44  \n",
      "3   1191356    10193.44  \n",
      "4   1201291      958.33  \n",
      "..      ...         ...  \n",
      "95  1158481   187300.00  \n",
      "96  1167899  1437480.61  \n",
      "97  1167899  1437480.61  \n",
      "98  1167899  1437480.61  \n",
      "99  1167899  1437480.61  \n",
      "\n",
      "[100 rows x 6 columns]\n"
     ]
    }
   ],
   "source": [
    "response = requests.get('https://services1.arcgis.com/79kfd2K6fskCAkyg/arcgis/rest/services/Louisville_Metro_KY_Expenditures_Data_For_Fiscal_Year_2022/FeatureServer/0/query?outFields=*&where=1%3D1&f=geojson')\n",
    "data1 = response.json()\n",
    "data2 = pd.DataFrame.from_dict(data1['features'][0:100])\n",
    "data3 = pd.DataFrame.from_dict(data2[\"properties\"])\n",
    "data4 = data3.to_dict('list')\n",
    "data5 = pd.DataFrame.from_dict(data4[\"properties\"])\n",
    "data5 = data5.drop(columns=['Budget_Type','Agency_Name','Sub_Agency_Name','DepartmentName','Sub_DepartmentName','Category','Sub_Category','Stimulus_Type','Funding_Source','InvoiceDt','DistributionAmt','CheckDt','CheckVoidDt','ObjectId'])\n",
    "#data5.to_excel(\"data5.xlsx\") \n",
    "print(data5)"
   ]
  },
  {
   "cell_type": "markdown",
   "id": "1237d439",
   "metadata": {},
   "source": [
    "### Show DataFrame type and pandas.DataFrame.head (.head()) function "
   ]
  },
  {
   "cell_type": "code",
   "execution_count": 4,
   "id": "83f6d6ff",
   "metadata": {},
   "outputs": [
    {
     "name": "stdout",
     "output_type": "stream",
     "text": [
      "Type from response: <class 'pandas.core.frame.DataFrame'>\n"
     ]
    },
    {
     "data": {
      "text/html": [
       "<div>\n",
       "<style scoped>\n",
       "    .dataframe tbody tr th:only-of-type {\n",
       "        vertical-align: middle;\n",
       "    }\n",
       "\n",
       "    .dataframe tbody tr th {\n",
       "        vertical-align: top;\n",
       "    }\n",
       "\n",
       "    .dataframe thead th {\n",
       "        text-align: right;\n",
       "    }\n",
       "</style>\n",
       "<table border=\"1\" class=\"dataframe\">\n",
       "  <thead>\n",
       "    <tr style=\"text-align: right;\">\n",
       "      <th></th>\n",
       "      <th>Fiscal_Year</th>\n",
       "      <th>Vendor_Name</th>\n",
       "      <th>InvoiceID</th>\n",
       "      <th>InvoiceAmt</th>\n",
       "      <th>CheckID</th>\n",
       "      <th>CheckAmt</th>\n",
       "    </tr>\n",
       "  </thead>\n",
       "  <tbody>\n",
       "    <tr>\n",
       "      <th>0</th>\n",
       "      <td>2022</td>\n",
       "      <td>LOUISVILLE GAS &amp; ELECTRIC COMPANY</td>\n",
       "      <td>2458376</td>\n",
       "      <td>664.00</td>\n",
       "      <td>1210984</td>\n",
       "      <td>664.00</td>\n",
       "    </tr>\n",
       "    <tr>\n",
       "      <th>1</th>\n",
       "      <td>2022</td>\n",
       "      <td>ALL TRAFFIC SOLUTIONS INC</td>\n",
       "      <td>2406773</td>\n",
       "      <td>10193.44</td>\n",
       "      <td>1191356</td>\n",
       "      <td>10193.44</td>\n",
       "    </tr>\n",
       "    <tr>\n",
       "      <th>2</th>\n",
       "      <td>2022</td>\n",
       "      <td>ALL TRAFFIC SOLUTIONS INC</td>\n",
       "      <td>2406773</td>\n",
       "      <td>10193.44</td>\n",
       "      <td>1191356</td>\n",
       "      <td>10193.44</td>\n",
       "    </tr>\n",
       "    <tr>\n",
       "      <th>3</th>\n",
       "      <td>2022</td>\n",
       "      <td>ALL TRAFFIC SOLUTIONS INC</td>\n",
       "      <td>2406773</td>\n",
       "      <td>10193.44</td>\n",
       "      <td>1191356</td>\n",
       "      <td>10193.44</td>\n",
       "    </tr>\n",
       "    <tr>\n",
       "      <th>4</th>\n",
       "      <td>2022</td>\n",
       "      <td>ACTION LANDSCAPE INC</td>\n",
       "      <td>2431857</td>\n",
       "      <td>958.33</td>\n",
       "      <td>1201291</td>\n",
       "      <td>958.33</td>\n",
       "    </tr>\n",
       "  </tbody>\n",
       "</table>\n",
       "</div>"
      ],
      "text/plain": [
       "   Fiscal_Year                        Vendor_Name  InvoiceID  InvoiceAmt  \\\n",
       "0         2022  LOUISVILLE GAS & ELECTRIC COMPANY    2458376      664.00   \n",
       "1         2022          ALL TRAFFIC SOLUTIONS INC    2406773    10193.44   \n",
       "2         2022          ALL TRAFFIC SOLUTIONS INC    2406773    10193.44   \n",
       "3         2022          ALL TRAFFIC SOLUTIONS INC    2406773    10193.44   \n",
       "4         2022               ACTION LANDSCAPE INC    2431857      958.33   \n",
       "\n",
       "   CheckID  CheckAmt  \n",
       "0  1210984    664.00  \n",
       "1  1191356  10193.44  \n",
       "2  1191356  10193.44  \n",
       "3  1191356  10193.44  \n",
       "4  1201291    958.33  "
      ]
     },
     "execution_count": 4,
     "metadata": {},
     "output_type": "execute_result"
    }
   ],
   "source": [
    "print(f'Type from response: {type(data5)}')\n",
    "data5.head()"
   ]
  },
  {
   "cell_type": "markdown",
   "id": "2080760b",
   "metadata": {},
   "source": [
    "### Show descriptive statistics with pandas.DataFrame.describe (.describe)"
   ]
  },
  {
   "cell_type": "code",
   "execution_count": 5,
   "id": "48fdb694",
   "metadata": {},
   "outputs": [
    {
     "data": {
      "text/html": [
       "<div>\n",
       "<style scoped>\n",
       "    .dataframe tbody tr th:only-of-type {\n",
       "        vertical-align: middle;\n",
       "    }\n",
       "\n",
       "    .dataframe tbody tr th {\n",
       "        vertical-align: top;\n",
       "    }\n",
       "\n",
       "    .dataframe thead th {\n",
       "        text-align: right;\n",
       "    }\n",
       "</style>\n",
       "<table border=\"1\" class=\"dataframe\">\n",
       "  <thead>\n",
       "    <tr style=\"text-align: right;\">\n",
       "      <th></th>\n",
       "      <th>Fiscal_Year</th>\n",
       "      <th>InvoiceID</th>\n",
       "      <th>InvoiceAmt</th>\n",
       "      <th>CheckID</th>\n",
       "      <th>CheckAmt</th>\n",
       "    </tr>\n",
       "  </thead>\n",
       "  <tbody>\n",
       "    <tr>\n",
       "      <th>count</th>\n",
       "      <td>100.0</td>\n",
       "      <td>1.000000e+02</td>\n",
       "      <td>100.000000</td>\n",
       "      <td>1.000000e+02</td>\n",
       "      <td>1.000000e+02</td>\n",
       "    </tr>\n",
       "    <tr>\n",
       "      <th>mean</th>\n",
       "      <td>2022.0</td>\n",
       "      <td>2.397876e+06</td>\n",
       "      <td>19186.760600</td>\n",
       "      <td>1.187942e+06</td>\n",
       "      <td>7.932702e+04</td>\n",
       "    </tr>\n",
       "    <tr>\n",
       "      <th>std</th>\n",
       "      <td>0.0</td>\n",
       "      <td>4.775202e+04</td>\n",
       "      <td>50027.042761</td>\n",
       "      <td>1.909875e+04</td>\n",
       "      <td>2.832720e+05</td>\n",
       "    </tr>\n",
       "    <tr>\n",
       "      <th>min</th>\n",
       "      <td>2022.0</td>\n",
       "      <td>2.322714e+06</td>\n",
       "      <td>-1556.500000</td>\n",
       "      <td>1.156652e+06</td>\n",
       "      <td>4.600000e+01</td>\n",
       "    </tr>\n",
       "    <tr>\n",
       "      <th>25%</th>\n",
       "      <td>2022.0</td>\n",
       "      <td>2.366576e+06</td>\n",
       "      <td>844.200000</td>\n",
       "      <td>1.174004e+06</td>\n",
       "      <td>1.081697e+03</td>\n",
       "    </tr>\n",
       "    <tr>\n",
       "      <th>50%</th>\n",
       "      <td>2022.0</td>\n",
       "      <td>2.391352e+06</td>\n",
       "      <td>2728.000000</td>\n",
       "      <td>1.186628e+06</td>\n",
       "      <td>3.785695e+03</td>\n",
       "    </tr>\n",
       "    <tr>\n",
       "      <th>75%</th>\n",
       "      <td>2022.0</td>\n",
       "      <td>2.445905e+06</td>\n",
       "      <td>16725.000000</td>\n",
       "      <td>1.205449e+06</td>\n",
       "      <td>2.542466e+04</td>\n",
       "    </tr>\n",
       "    <tr>\n",
       "      <th>max</th>\n",
       "      <td>2022.0</td>\n",
       "      <td>2.486033e+06</td>\n",
       "      <td>347000.000000</td>\n",
       "      <td>1.221082e+06</td>\n",
       "      <td>1.437481e+06</td>\n",
       "    </tr>\n",
       "  </tbody>\n",
       "</table>\n",
       "</div>"
      ],
      "text/plain": [
       "       Fiscal_Year     InvoiceID     InvoiceAmt       CheckID      CheckAmt\n",
       "count        100.0  1.000000e+02     100.000000  1.000000e+02  1.000000e+02\n",
       "mean        2022.0  2.397876e+06   19186.760600  1.187942e+06  7.932702e+04\n",
       "std            0.0  4.775202e+04   50027.042761  1.909875e+04  2.832720e+05\n",
       "min         2022.0  2.322714e+06   -1556.500000  1.156652e+06  4.600000e+01\n",
       "25%         2022.0  2.366576e+06     844.200000  1.174004e+06  1.081697e+03\n",
       "50%         2022.0  2.391352e+06    2728.000000  1.186628e+06  3.785695e+03\n",
       "75%         2022.0  2.445905e+06   16725.000000  1.205449e+06  2.542466e+04\n",
       "max         2022.0  2.486033e+06  347000.000000  1.221082e+06  1.437481e+06"
      ]
     },
     "execution_count": 5,
     "metadata": {},
     "output_type": "execute_result"
    }
   ],
   "source": [
    "data5.describe()"
   ]
  },
  {
   "cell_type": "markdown",
   "id": "0da5e0b3",
   "metadata": {},
   "source": [
    "### Show tuple representing the dimensionality of the DataFrame.  pandas.DataFrame.shape(.shape)"
   ]
  },
  {
   "cell_type": "code",
   "execution_count": 6,
   "id": "aaa03db4",
   "metadata": {},
   "outputs": [
    {
     "data": {
      "text/plain": [
       "(100, 6)"
      ]
     },
     "execution_count": 6,
     "metadata": {},
     "output_type": "execute_result"
    }
   ],
   "source": [
    "data5.shape"
   ]
  },
  {
   "cell_type": "markdown",
   "id": "0eca6a9f",
   "metadata": {},
   "source": [
    "### Using DataFrame.mean() to get \"CheckAmt\" column mean"
   ]
  },
  {
   "cell_type": "code",
   "execution_count": 7,
   "id": "58f82a47",
   "metadata": {},
   "outputs": [
    {
     "name": "stdout",
     "output_type": "stream",
     "text": [
      "79327.02200000001\n"
     ]
    }
   ],
   "source": [
    "chk_amount_avg = data5['CheckAmt'].mean()\n",
    "print(chk_amount_avg)"
   ]
  },
  {
   "cell_type": "markdown",
   "id": "d98ba4bb",
   "metadata": {},
   "source": [
    "### Using DataFrame.sum() to get CheckAmt column sum"
   ]
  },
  {
   "cell_type": "code",
   "execution_count": 8,
   "id": "969ebf8f",
   "metadata": {},
   "outputs": [
    {
     "name": "stdout",
     "output_type": "stream",
     "text": [
      "7932702.200000001\n"
     ]
    }
   ],
   "source": [
    "chk_amount_sum = data5['CheckAmt'].sum()\n",
    "print(chk_amount_sum)"
   ]
  },
  {
   "cell_type": "markdown",
   "id": "89b02bd0",
   "metadata": {},
   "source": [
    "### Find the maximum value of a column (CheckAmt) and to return its corresponding row values"
   ]
  },
  {
   "cell_type": "code",
   "execution_count": 9,
   "id": "5b872b7a",
   "metadata": {},
   "outputs": [
    {
     "name": "stdout",
     "output_type": "stream",
     "text": [
      "Fiscal_Year                                2022\n",
      "Vendor_Name    HALL CONTRACTING OF KENTUCKY INC\n",
      "InvoiceID                               2343641\n",
      "InvoiceAmt                             32355.32\n",
      "CheckID                                 1167899\n",
      "CheckAmt                             1437480.61\n",
      "Name: 96, dtype: object\n"
     ]
    }
   ],
   "source": [
    "col = \"CheckAmt\"\n",
    "max_x = data5.loc[data5[col].idxmax()]\n",
    "print(max_x)"
   ]
  },
  {
   "cell_type": "markdown",
   "id": "da1d37cd",
   "metadata": {},
   "source": [
    "### Pull subset of vendor(TEK SYSTEMS) from Vendor_name, using loc also .query"
   ]
  },
  {
   "cell_type": "code",
   "execution_count": 10,
   "id": "965f3adc",
   "metadata": {
    "scrolled": true
   },
   "outputs": [
    {
     "name": "stdout",
     "output_type": "stream",
     "text": [
      "   Fiscal_Year                Vendor_Name  InvoiceID  InvoiceAmt  CheckID  \\\n",
      "0         2022  ALL TRAFFIC SOLUTIONS INC    2406773    10193.44  1191356   \n",
      "1         2022  ALL TRAFFIC SOLUTIONS INC    2406773    10193.44  1191356   \n",
      "2         2022  ALL TRAFFIC SOLUTIONS INC    2406773    10193.44  1191356   \n",
      "3         2022  ALL TRAFFIC SOLUTIONS INC    2409768    11645.00  1193275   \n",
      "4         2022  ALL TRAFFIC SOLUTIONS INC    2409768    11645.00  1193275   \n",
      "5         2022  ALL TRAFFIC SOLUTIONS INC    2409768    11645.00  1193275   \n",
      "6         2022  ALL TRAFFIC SOLUTIONS INC    2397777    11745.00  1200593   \n",
      "\n",
      "   CheckAmt  \n",
      "0  10193.44  \n",
      "1  10193.44  \n",
      "2  10193.44  \n",
      "3  11645.00  \n",
      "4  11645.00  \n",
      "5  11645.00  \n",
      "6  11745.00  \n"
     ]
    }
   ],
   "source": [
    "data6 = data5.loc[data5['Vendor_Name'] == 'ALL TRAFFIC SOLUTIONS INC']\n",
    "data6 = data6.reset_index(drop=True)\n",
    "print(data6)"
   ]
  },
  {
   "cell_type": "code",
   "execution_count": 11,
   "id": "f3bc7372",
   "metadata": {},
   "outputs": [
    {
     "name": "stdout",
     "output_type": "stream",
     "text": [
      "    Fiscal_Year                Vendor_Name  InvoiceID  InvoiceAmt  CheckID  \\\n",
      "1          2022  ALL TRAFFIC SOLUTIONS INC    2406773    10193.44  1191356   \n",
      "2          2022  ALL TRAFFIC SOLUTIONS INC    2406773    10193.44  1191356   \n",
      "3          2022  ALL TRAFFIC SOLUTIONS INC    2406773    10193.44  1191356   \n",
      "17         2022  ALL TRAFFIC SOLUTIONS INC    2409768    11645.00  1193275   \n",
      "18         2022  ALL TRAFFIC SOLUTIONS INC    2409768    11645.00  1193275   \n",
      "19         2022  ALL TRAFFIC SOLUTIONS INC    2409768    11645.00  1193275   \n",
      "21         2022  ALL TRAFFIC SOLUTIONS INC    2397777    11745.00  1200593   \n",
      "\n",
      "    CheckAmt  \n",
      "1   10193.44  \n",
      "2   10193.44  \n",
      "3   10193.44  \n",
      "17  11645.00  \n",
      "18  11645.00  \n",
      "19  11645.00  \n",
      "21  11745.00  \n"
     ]
    }
   ],
   "source": [
    "data7 = data5.query(\"Vendor_Name == 'ALL TRAFFIC SOLUTIONS INC'\")\n",
    "print(data7)"
   ]
  },
  {
   "cell_type": "markdown",
   "id": "f834d1d1",
   "metadata": {},
   "source": [
    "### Show second and thrid columns"
   ]
  },
  {
   "cell_type": "code",
   "execution_count": 12,
   "id": "3728e2e3",
   "metadata": {},
   "outputs": [
    {
     "data": {
      "text/html": [
       "<div>\n",
       "<style scoped>\n",
       "    .dataframe tbody tr th:only-of-type {\n",
       "        vertical-align: middle;\n",
       "    }\n",
       "\n",
       "    .dataframe tbody tr th {\n",
       "        vertical-align: top;\n",
       "    }\n",
       "\n",
       "    .dataframe thead th {\n",
       "        text-align: right;\n",
       "    }\n",
       "</style>\n",
       "<table border=\"1\" class=\"dataframe\">\n",
       "  <thead>\n",
       "    <tr style=\"text-align: right;\">\n",
       "      <th></th>\n",
       "      <th>Vendor_Name</th>\n",
       "      <th>InvoiceID</th>\n",
       "    </tr>\n",
       "  </thead>\n",
       "  <tbody>\n",
       "    <tr>\n",
       "      <th>0</th>\n",
       "      <td>LOUISVILLE GAS &amp; ELECTRIC COMPANY</td>\n",
       "      <td>2458376</td>\n",
       "    </tr>\n",
       "    <tr>\n",
       "      <th>1</th>\n",
       "      <td>ALL TRAFFIC SOLUTIONS INC</td>\n",
       "      <td>2406773</td>\n",
       "    </tr>\n",
       "    <tr>\n",
       "      <th>2</th>\n",
       "      <td>ALL TRAFFIC SOLUTIONS INC</td>\n",
       "      <td>2406773</td>\n",
       "    </tr>\n",
       "    <tr>\n",
       "      <th>3</th>\n",
       "      <td>ALL TRAFFIC SOLUTIONS INC</td>\n",
       "      <td>2406773</td>\n",
       "    </tr>\n",
       "    <tr>\n",
       "      <th>4</th>\n",
       "      <td>ACTION LANDSCAPE INC</td>\n",
       "      <td>2431857</td>\n",
       "    </tr>\n",
       "    <tr>\n",
       "      <th>...</th>\n",
       "      <td>...</td>\n",
       "      <td>...</td>\n",
       "    </tr>\n",
       "    <tr>\n",
       "      <th>95</th>\n",
       "      <td>YANCEY LIVING TRUST</td>\n",
       "      <td>2324144</td>\n",
       "    </tr>\n",
       "    <tr>\n",
       "      <th>96</th>\n",
       "      <td>HALL CONTRACTING OF KENTUCKY INC</td>\n",
       "      <td>2343641</td>\n",
       "    </tr>\n",
       "    <tr>\n",
       "      <th>97</th>\n",
       "      <td>HALL CONTRACTING OF KENTUCKY INC</td>\n",
       "      <td>2343643</td>\n",
       "    </tr>\n",
       "    <tr>\n",
       "      <th>98</th>\n",
       "      <td>HALL CONTRACTING OF KENTUCKY INC</td>\n",
       "      <td>2343643</td>\n",
       "    </tr>\n",
       "    <tr>\n",
       "      <th>99</th>\n",
       "      <td>HALL CONTRACTING OF KENTUCKY INC</td>\n",
       "      <td>2343641</td>\n",
       "    </tr>\n",
       "  </tbody>\n",
       "</table>\n",
       "<p>100 rows × 2 columns</p>\n",
       "</div>"
      ],
      "text/plain": [
       "                          Vendor_Name  InvoiceID\n",
       "0   LOUISVILLE GAS & ELECTRIC COMPANY    2458376\n",
       "1           ALL TRAFFIC SOLUTIONS INC    2406773\n",
       "2           ALL TRAFFIC SOLUTIONS INC    2406773\n",
       "3           ALL TRAFFIC SOLUTIONS INC    2406773\n",
       "4                ACTION LANDSCAPE INC    2431857\n",
       "..                                ...        ...\n",
       "95                YANCEY LIVING TRUST    2324144\n",
       "96   HALL CONTRACTING OF KENTUCKY INC    2343641\n",
       "97   HALL CONTRACTING OF KENTUCKY INC    2343643\n",
       "98   HALL CONTRACTING OF KENTUCKY INC    2343643\n",
       "99   HALL CONTRACTING OF KENTUCKY INC    2343641\n",
       "\n",
       "[100 rows x 2 columns]"
      ]
     },
     "execution_count": 12,
     "metadata": {},
     "output_type": "execute_result"
    }
   ],
   "source": [
    "data5[['Vendor_Name', 'InvoiceID']]"
   ]
  },
  {
   "cell_type": "markdown",
   "id": "8a7b9c84",
   "metadata": {},
   "source": [
    "### Show first 4 rows of DataFrame"
   ]
  },
  {
   "cell_type": "code",
   "execution_count": 13,
   "id": "09bd7086",
   "metadata": {},
   "outputs": [
    {
     "data": {
      "text/html": [
       "<div>\n",
       "<style scoped>\n",
       "    .dataframe tbody tr th:only-of-type {\n",
       "        vertical-align: middle;\n",
       "    }\n",
       "\n",
       "    .dataframe tbody tr th {\n",
       "        vertical-align: top;\n",
       "    }\n",
       "\n",
       "    .dataframe thead th {\n",
       "        text-align: right;\n",
       "    }\n",
       "</style>\n",
       "<table border=\"1\" class=\"dataframe\">\n",
       "  <thead>\n",
       "    <tr style=\"text-align: right;\">\n",
       "      <th></th>\n",
       "      <th>Fiscal_Year</th>\n",
       "      <th>Vendor_Name</th>\n",
       "      <th>InvoiceID</th>\n",
       "      <th>InvoiceAmt</th>\n",
       "      <th>CheckID</th>\n",
       "      <th>CheckAmt</th>\n",
       "    </tr>\n",
       "  </thead>\n",
       "  <tbody>\n",
       "    <tr>\n",
       "      <th>0</th>\n",
       "      <td>2022</td>\n",
       "      <td>LOUISVILLE GAS &amp; ELECTRIC COMPANY</td>\n",
       "      <td>2458376</td>\n",
       "      <td>664.00</td>\n",
       "      <td>1210984</td>\n",
       "      <td>664.00</td>\n",
       "    </tr>\n",
       "    <tr>\n",
       "      <th>1</th>\n",
       "      <td>2022</td>\n",
       "      <td>ALL TRAFFIC SOLUTIONS INC</td>\n",
       "      <td>2406773</td>\n",
       "      <td>10193.44</td>\n",
       "      <td>1191356</td>\n",
       "      <td>10193.44</td>\n",
       "    </tr>\n",
       "    <tr>\n",
       "      <th>2</th>\n",
       "      <td>2022</td>\n",
       "      <td>ALL TRAFFIC SOLUTIONS INC</td>\n",
       "      <td>2406773</td>\n",
       "      <td>10193.44</td>\n",
       "      <td>1191356</td>\n",
       "      <td>10193.44</td>\n",
       "    </tr>\n",
       "    <tr>\n",
       "      <th>3</th>\n",
       "      <td>2022</td>\n",
       "      <td>ALL TRAFFIC SOLUTIONS INC</td>\n",
       "      <td>2406773</td>\n",
       "      <td>10193.44</td>\n",
       "      <td>1191356</td>\n",
       "      <td>10193.44</td>\n",
       "    </tr>\n",
       "  </tbody>\n",
       "</table>\n",
       "</div>"
      ],
      "text/plain": [
       "   Fiscal_Year                        Vendor_Name  InvoiceID  InvoiceAmt  \\\n",
       "0         2022  LOUISVILLE GAS & ELECTRIC COMPANY    2458376      664.00   \n",
       "1         2022          ALL TRAFFIC SOLUTIONS INC    2406773    10193.44   \n",
       "2         2022          ALL TRAFFIC SOLUTIONS INC    2406773    10193.44   \n",
       "3         2022          ALL TRAFFIC SOLUTIONS INC    2406773    10193.44   \n",
       "\n",
       "   CheckID  CheckAmt  \n",
       "0  1210984    664.00  \n",
       "1  1191356  10193.44  \n",
       "2  1191356  10193.44  \n",
       "3  1191356  10193.44  "
      ]
     },
     "execution_count": 13,
     "metadata": {},
     "output_type": "execute_result"
    }
   ],
   "source": [
    "data5.iloc[:4]"
   ]
  },
  {
   "cell_type": "code",
   "execution_count": null,
   "id": "dc745ce9",
   "metadata": {},
   "outputs": [],
   "source": []
  }
 ],
 "metadata": {
  "kernelspec": {
   "display_name": "Python 3 (ipykernel)",
   "language": "python",
   "name": "python3"
  },
  "language_info": {
   "codemirror_mode": {
    "name": "ipython",
    "version": 3
   },
   "file_extension": ".py",
   "mimetype": "text/x-python",
   "name": "python",
   "nbconvert_exporter": "python",
   "pygments_lexer": "ipython3",
   "version": "3.9.7"
  }
 },
 "nbformat": 4,
 "nbformat_minor": 5
}
