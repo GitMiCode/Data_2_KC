{
 "cells": [
  {
   "cell_type": "code",
   "execution_count": 1,
   "id": "b797f4c3",
   "metadata": {},
   "outputs": [
    {
     "name": "stdout",
     "output_type": "stream",
     "text": [
      "      Year                  Attribute     Value\n",
      "0     1948  Total agricultural output  0.362833\n",
      "30    1949  Total agricultural output  0.357259\n",
      "60    1950  Total agricultural output  0.348639\n",
      "90    1951  Total agricultural output  0.364145\n",
      "120   1953  Total agricultural output  0.380998\n",
      "...    ...                        ...       ...\n",
      "1980  2015  Total agricultural output  1.000000\n",
      "2010  2016  Total agricultural output  1.030058\n",
      "2040  2017  Total agricultural output  1.023858\n",
      "2070  2018  Total agricultural output  1.006604\n",
      "2100  2019  Total agricultural output  0.997719\n",
      "\n",
      "[71 rows x 3 columns]\n"
     ]
    },
    {
     "data": {
      "text/plain": [
       "<AxesSubplot:xlabel='Year', ylabel='Value'>"
      ]
     },
     "execution_count": 1,
     "metadata": {},
     "output_type": "execute_result"
    },
    {
     "data": {
      "image/png": "[encoded data removed]",
      "text/plain": [
       "<Figure size 432x288 with 1 Axes>"
      ]
     },
     "metadata": {
      "needs_background": "light"
     },
     "output_type": "display_data"
    }
   ],
   "source": [
    "import pandas as pd\n",
    "import seaborn as sns\n",
    "\n",
    "# Get Indices of total farm output, data from 1948 - 2019\n",
    "df = pd.read_csv(\"assets/Indices_of_farm_output.csv\")\n",
    "\n",
    "total_Agri_Out = df[(df[\"Attribute\"] == \"Total agricultural output\")]\n",
    "\n",
    "print(total_Agri_Out)\n",
    "\n",
    "sns.scatterplot(x=total_Agri_Out['Year'],\n",
    "                y=total_Agri_Out['Value'])"
   ]
  },
  {
   "cell_type": "code",
   "execution_count": null,
   "id": "0ac9482a",
   "metadata": {},
   "outputs": [],
   "source": []
  }
 ],
 "metadata": {
  "kernelspec": {
   "display_name": "Python 3 (ipykernel)",
   "language": "python",
   "name": "python3"
  },
  "language_info": {
   "codemirror_mode": {
    "name": "ipython",
    "version": 3
   },
   "file_extension": ".py",
   "mimetype": "text/x-python",
   "name": "python",
   "nbconvert_exporter": "python",
   "pygments_lexer": "ipython3",
   "version": "3.9.7"
  }
 },
 "nbformat": 4,
 "nbformat_minor": 5
}
